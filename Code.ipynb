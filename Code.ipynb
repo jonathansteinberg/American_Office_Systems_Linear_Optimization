{
  "nbformat": 4,
  "nbformat_minor": 0,
  "metadata": {
    "anaconda-cloud": {},
    "colab": {
      "name": "Final Copy Case Study MGSC 404.ipynb",
      "provenance": [],
      "collapsed_sections": []
    },
    "kernelspec": {
      "display_name": "Python 3",
      "language": "python",
      "name": "python3"
    },
    "language_info": {
      "codemirror_mode": {
        "name": "ipython",
        "version": 3
      },
      "file_extension": ".py",
      "mimetype": "text/x-python",
      "name": "python",
      "nbconvert_exporter": "python",
      "pygments_lexer": "ipython3",
      "version": "3.7.6"
    }
  },
  "cells": [
    {
      "cell_type": "markdown",
      "metadata": {
        "id": "yJW4Bm289Nex"
      },
      "source": [
        "# MGSC 404 Foundations of Decision Analytics - Fall 2020\n",
        "\n",
        "# Case Study\n",
        "\n",
        "## Team Members: \n",
        "\n",
        "Jonathan Steinberg 260924571 jonathan.steinberg@mail.mcgill.ca\n",
        "Tyra David 260869114 tyra.david@mail.mcgill.ca\n",
        "Julien Desautels 260585827 julien.desautels@mail.mcgill.ca\n"
      ]
    },
    {
      "cell_type": "markdown",
      "metadata": {
        "id": "wovliQ2F9Ney"
      },
      "source": [
        "# **Section I: Introduction**\n",
        "\n",
        "American Office Systems Inc., established in 1939, is a manufacturer of office equipment based in San Francisco. In the 1950s, when computers began to erode its market for bookkeeping machines, the company diversified and began to manufacture IBM and Macintosh adapters in order to tap-into the copy machine market. The goal of this case study is to optimize American Office Systems’ profit for the year 1996 in the face of many production, marketing, inventory, borrowing, and cash flow constraints. The findings of this study show that, in order to maximize profit, more IBM adapters should be produced and sold than Macintosh adapters. Furthermore, the company will not elect to borrow the any of the 750,000 dollars from the line-of-credit. Overall, the optimal solution will result in a profit of 13,031,411.85 dollars at the end of the fourth quarter of 1996.\n",
        "\n"
      ]
    },
    {
      "cell_type": "markdown",
      "metadata": {
        "id": "845J4oZM9Nez"
      },
      "source": [
        "# **Section II: Model**"
      ]
    },
    {
      "cell_type": "markdown",
      "metadata": {
        "id": "Kk8dcOMt9Ne0"
      },
      "source": [
        "\n",
        "**Assumptions**\n",
        "\n",
        "Our model relies on the following assumptions:\n",
        "\n",
        "1. American Office Systems, Inc. runs 2 work shifts of 8 hours every day for 20 days per month. Each quarter is made of 3 months therefore we made our full capacity the number of adapters for IBM and MAC produced each hour multiplied by the hours worked in a quarter. \n",
        "2. Forecasted sales are accurate \n",
        "3. We immediately pay the interest for borrowing in the previous quarter at the end of the following quarter and pay off all credit line from last quarter. Credit Line must all be paid for by Q4.\n",
        "4. Using a linear model is an appropriate approximation for an optimal strategy and further refinement will be done later. \n",
        "5. This model optimizes the accounting profit instead of the present and future cash flows of the operations. We opted for that sort of model because it depicts better the reality of the company and we found that, with the cash flow based models, the ending inventory of the last quarter was often too low to prepare for next year.\n",
        "6. The fixed costs of 3 million dollars are for the whole company and only a portion is attributable to the adapters. We decided that 250,000 would be a good starting point.\n",
        "7. The leftover Mac sales that are not paid for each quarter are also sold to collection agency at 50% of sales value three quarters after initial sale.\n",
        "8.Same 6% reinvestment rate applies for Q1-2 of 1997 and becomes their discount rate.\n",
        "9. Model should account for Q4 sales received in Q1-2 of 1997 and cash received from previous year's sales (1995 Q3 and Q4).\n",
        "10. Average inventories follow a linear model using beginning and end inventories by quarter and are used to estimate stock carrying costs and % was taken off variable cost of each type of adapter (as is usual in accounting).\n",
        "11.Temporal frame of reference for value of all cash flows is their PV at end of Q4 1996.\n",
        "12. Marketing spend is determined quarterly and is separated by product line (IBM and Mac) for optimal sales targeting of either product according to needs.\n",
        "13. Ending inventory/Minimum production calculation: for expected sales of Q1-3 used regular + Marketing sales instead of max base expected sales besides for the last quarter Q4 since it is explicitly mentioned to use max expected sales.\n",
        "14. Thus, the constraint for Q1-3 of “production plus the end-of-period inventory for the adapters should be at least 10% larger than the estimated sales for the next period” was taken literally as production Q1 + Ending inventory Q1 >= 1.1(regular sales Q2 + Marketing sales Q2).\n",
        "15. Carrying costs are assumed at the end of each quarter, none for 1997 since it does not pertains to next year’s activities just as beginning stock of 1996 included in 1996.\n",
        "16. Depreciation not factored in model since never paid for."
      ]
    },
    {
      "cell_type": "code",
      "metadata": {
        "id": "TXr71p3t9Ne0",
        "outputId": "910b643d-b6a2-471c-b5d1-c5464a15cd4a",
        "colab": {
          "base_uri": "https://localhost:8080/",
          "height": 368
        }
      },
      "source": [
        "from gurobipy import *\n",
        "from datascience import *\n",
        "import numpy as np\n",
        "%matplotlib inline\n",
        "import matplotlib.pyplot as plots\n",
        "plots.style.use('fivethirtyeight')\n",
        "import math\n",
        "import IPython.display\n",
        "\n"
      ],
      "execution_count": null,
      "outputs": [
        {
          "output_type": "error",
          "ename": "ModuleNotFoundError",
          "evalue": "ignored",
          "traceback": [
            "\u001b[0;31m---------------------------------------------------------------------------\u001b[0m",
            "\u001b[0;31mModuleNotFoundError\u001b[0m                       Traceback (most recent call last)",
            "\u001b[0;32m<ipython-input-3-482ab6a66e87>\u001b[0m in \u001b[0;36m<module>\u001b[0;34m()\u001b[0m\n\u001b[0;32m----> 1\u001b[0;31m \u001b[0;32mfrom\u001b[0m \u001b[0mgurobipy\u001b[0m \u001b[0;32mimport\u001b[0m \u001b[0;34m*\u001b[0m\u001b[0;34m\u001b[0m\u001b[0;34m\u001b[0m\u001b[0m\n\u001b[0m\u001b[1;32m      2\u001b[0m \u001b[0;32mfrom\u001b[0m \u001b[0mdatascience\u001b[0m \u001b[0;32mimport\u001b[0m \u001b[0;34m*\u001b[0m\u001b[0;34m\u001b[0m\u001b[0;34m\u001b[0m\u001b[0m\n\u001b[1;32m      3\u001b[0m \u001b[0;32mimport\u001b[0m \u001b[0mnumpy\u001b[0m \u001b[0;32mas\u001b[0m \u001b[0mnp\u001b[0m\u001b[0;34m\u001b[0m\u001b[0;34m\u001b[0m\u001b[0m\n\u001b[1;32m      4\u001b[0m \u001b[0mget_ipython\u001b[0m\u001b[0;34m(\u001b[0m\u001b[0;34m)\u001b[0m\u001b[0;34m.\u001b[0m\u001b[0mmagic\u001b[0m\u001b[0;34m(\u001b[0m\u001b[0;34m'matplotlib inline'\u001b[0m\u001b[0;34m)\u001b[0m\u001b[0;34m\u001b[0m\u001b[0;34m\u001b[0m\u001b[0m\n\u001b[1;32m      5\u001b[0m \u001b[0;32mimport\u001b[0m \u001b[0mmatplotlib\u001b[0m\u001b[0;34m.\u001b[0m\u001b[0mpyplot\u001b[0m \u001b[0;32mas\u001b[0m \u001b[0mplots\u001b[0m\u001b[0;34m\u001b[0m\u001b[0;34m\u001b[0m\u001b[0m\n",
            "\u001b[0;31mModuleNotFoundError\u001b[0m: No module named 'gurobipy'",
            "",
            "\u001b[0;31m---------------------------------------------------------------------------\u001b[0;32m\nNOTE: If your import is failing due to a missing package, you can\nmanually install dependencies using either !pip or !apt.\n\nTo view examples of installing some common dependencies, click the\n\"Open Examples\" button below.\n\u001b[0;31m---------------------------------------------------------------------------\u001b[0m\n"
          ]
        }
      ]
    },
    {
      "cell_type": "markdown",
      "metadata": {
        "id": "3xUmjeUk9Ne6"
      },
      "source": [
        "### **Step 1: Creating a Gurobi object**"
      ]
    },
    {
      "cell_type": "code",
      "metadata": {
        "id": "1J2-QRbq9Ne8",
        "outputId": "2cc8c999-802d-4c5d-b9cc-41de2048f334",
        "colab": {
          "base_uri": "https://localhost:8080/",
          "height": 164
        }
      },
      "source": [
        "model = Model('case study')  "
      ],
      "execution_count": null,
      "outputs": [
        {
          "output_type": "error",
          "ename": "NameError",
          "evalue": "ignored",
          "traceback": [
            "\u001b[0;31m---------------------------------------------------------------------------\u001b[0m",
            "\u001b[0;31mNameError\u001b[0m                                 Traceback (most recent call last)",
            "\u001b[0;32m<ipython-input-4-1431a494594f>\u001b[0m in \u001b[0;36m<module>\u001b[0;34m()\u001b[0m\n\u001b[0;32m----> 1\u001b[0;31m \u001b[0mmodel\u001b[0m \u001b[0;34m=\u001b[0m \u001b[0mModel\u001b[0m\u001b[0;34m(\u001b[0m\u001b[0;34m'case study'\u001b[0m\u001b[0;34m)\u001b[0m\u001b[0;34m\u001b[0m\u001b[0;34m\u001b[0m\u001b[0m\n\u001b[0m",
            "\u001b[0;31mNameError\u001b[0m: name 'Model' is not defined"
          ]
        }
      ]
    },
    {
      "cell_type": "markdown",
      "metadata": {
        "id": "lQ4kJfhH9NfB"
      },
      "source": [
        "### **Step 2: Defining Decision Variables**"
      ]
    },
    {
      "cell_type": "markdown",
      "metadata": {
        "id": "kMNjviGg9NfC"
      },
      "source": [
        "**Pi** = Production for IBM adapters in units of adapters, in quarters i, where i = 1,2,3,4             \n",
        "\n",
        "**Pm** =  Production for MAC adapters in units of adapters, in quarters i, where i = 1,2,3,4   \n",
        "\n",
        "**Si** = Total Sales (including Marketing) for IBM adapters in units of adapters, in quarters i, where i = 1,2,3,4   \n",
        "\n",
        "**Sm** = Total Sales (including Marketing) for MAC adapters in units of adapters, in quarters i, where i = 1,2,3,4 \n",
        "\n",
        "**Ri** = Regular Sales for IBM adapters in units of adapters, in quarters i, where i = 1,2,3,4\n",
        "\n",
        "**Rm** = Regular Sales for MAC adapters in units of adapters, in quarters i, where i = 1,2,3,4\n",
        "\n",
        "**Mi** = Marketing for IBM adapters in units of additional adapter units sold due to marketing activities, in quarters i, where i = 1,2,3,4   \n",
        "\n",
        "**Mm** = Marketing for MAC adapters in units of additional adapter units sold due to marketing activities, in quarters i, where i = 1,2,3,4  <br />\n",
        "\n",
        "**B  =** Amount borrowed from the line of credit in units of dollars, in quarters i, where i = 1,2,3,4 <br />\n",
        "\n",
        "**Ei** = Ending inventory for IBM adapters in units of adapters, in quarters i, where i = 1,2,3,4   \n",
        "\n",
        "**Em** = Ending inventory for MAC adapters in units of adapters, in quarters i, where i = 1,2,3,4   \n",
        "\n",
        "**CF** =Cash flow at the end of the quarter in units of dollars, in quarters i, where i = 1,2,3,4 <br />\n",
        "\n",
        "**F** =Cash flow at the end of the quarter in units of dollars, in quarters i, where i = 1,2 of 1997  \n"
      ]
    },
    {
      "cell_type": "markdown",
      "metadata": {
        "id": "UQXCYPr4c-mG"
      },
      "source": [
        ""
      ]
    },
    {
      "cell_type": "code",
      "metadata": {
        "id": "Dcxvdjkv9NfD"
      },
      "source": [
        "#initilizing empty dictionaries\n",
        "Pi = {}  \n",
        "Pm = {} \n",
        "Si = {} \n",
        "Sm = {} \n",
        "Mi = {} \n",
        "Mm = {} \n",
        "B = {} \n",
        "Ei = {}\n",
        "Em = {} \n",
        "CF={}\n",
        "F= {}\n",
        "Ri={}\n",
        "Rm={}\n",
        "\n",
        "# Create decisions variable\n",
        "for i in np.arange(4):  \n",
        "    Pi[i] = model.addVar(lb=0)\n",
        "    Pm[i] = model.addVar(lb=0)\n",
        "    Si[i] = model.addVar(lb=0)\n",
        "    Sm[i] = model.addVar(lb=0)\n",
        "    Mi[i] = model.addVar(lb=0)\n",
        "    Mm[i] = model.addVar(lb=0)\n",
        "    B[i] = model.addVar(lb=0)\n",
        "    CF[i] = model.addVar(lb=0)\n",
        "    Ei[i] = model.addVar(lb=0)\n",
        "    Em[i] = model.addVar(lb=0)\n",
        "    Ri[i] = model.addVar(lb=0)\n",
        "    Rm[i] = model.addVar(lb=0)\n",
        "\n",
        "for i in np.arange(2):    \n",
        "    F[i] = model.addVar(lb=0)\n",
        "    # By default Gurobi assumes that the lower bound of a variable lb=0, not minus infinity."
      ],
      "execution_count": null,
      "outputs": []
    },
    {
      "cell_type": "markdown",
      "metadata": {
        "id": "XgDhxLgY9NfG"
      },
      "source": [
        "### **Step 3: Constant Parameters**\n",
        "\n",
        "**price_ibm** = the selling price for IBM adapters  \n",
        "\n",
        "**price_mac** = the selling price for MAC adapters  \n",
        "\n",
        "**VC_ibm** =  the variable costs for IBM adapters \n",
        "\n",
        "**VC_mac** =  the variable costs for MAC adapters \n",
        "\n",
        "**beginning_inventory_ibm** =  the beginning inventory for IBM adapters at Q1  \n",
        "\n",
        "**beginning_inventory_mac** =  the beginning inventory for MAC adapters at Q1 \n",
        "\n",
        "**cost_advertising** =  the cost to sell one additional unit of either an IBM or MAC adapter  \n",
        "\n",
        "**interest_rate_LOC** = The annual interest rate for the line of credit \n",
        "\n",
        "**interest_rate_bonds** = The annual interest rate for the government securities \n",
        "\n",
        "**fixed_costs** = The fixed costs per quarter\n",
        "\n",
        "**carry_cost_month** = The monthly carry cost of inventory\n"
      ]
    },
    {
      "cell_type": "code",
      "metadata": {
        "id": "B7XLqIrz9NfH"
      },
      "source": [
        "# constant parameters  \n",
        "price_ibm = 175\n",
        "price_mac = 200\n",
        "VC_ibm = 100\n",
        "VC_mac = 110\n",
        "beginning_inventory_ibm = 10000\n",
        "beginning_inventory_mac = 5000\n",
        "cost_advertising = 10\n",
        "interest_rate_LOC = 0.16\n",
        "interest_rate_bonds = 0.06\n",
        "fixed_costs = 250000\n",
        "carry_cost_month = 0.01"
      ],
      "execution_count": null,
      "outputs": []
    },
    {
      "cell_type": "markdown",
      "metadata": {
        "id": "y7OHghIM9NfM"
      },
      "source": [
        "### **Step 4: Constraints**\n",
        "\n",
        "**Maximum Production IBM Constraint:** We included production constraints on IBM adapters of ast most 28800 units for the first three quarters, since our calculation assumed two shifts of 8 hours a day, 20 production days a month, 3 months a quarter, and at most 30 IBM adapters per hour. Our last quarter has a production constraint of at most 31680 as that accounts for the 10% increase in capacity by the beginning of the first quarter.   \n",
        "  \n",
        "**Maximum Production MAC Constraint:** We included production constraints on MAC adapters of at most 9600 units for the first three quarters, since our calculation assumed two shifts of 8 hours a day, 20 production days a month, 3 months a quarter, and at most 10 MAC adapters per hour. Our last quarter has a production constraint of at most 10560 as that accounts for the 10% increase in capacity by the beginning of the first quarter. \n",
        "\n",
        "**Minimum Production IBM Constraint:** We included production constraints on IBM adapters of at least 2400 units for each of the four quarters, since our calculation assumed 20 production days a month, 3 months a quarter, and at least 40 IBM adapters produced per production day. This constraint was established in order to maintain continuity in the production process, which can lower the risk of equipment malfunction. \n",
        "\n",
        "**Minimum Production MAC Constraint:** We included production constraints on MAC adapters of at least 1800 units for each of the four quarters, since our calculation assumed 20 production days a month, 3 months a quarter, and at least 30 MAC adapters produced per production day. This constraint was established in order to maintain continuity in the production process, which can lower the risk of equipment malfunction. \n",
        "\n",
        "**Ending Inventory IBM:** The ending inventory of IBM adapters is calculated as the starting inventory in the current quarter (which is equivalent to the ending inventory from the previous quarter) plus the production done during the current quarter minus the total sales made during the current quarter. Note that for IBM adapters, 1995 inventory ended with 10000 adapters, and therefore 1996 starts with this quantity. \n",
        "\n",
        "**Ending Inventory MAC:** The ending inventory of IBM adapters is calculated as the starting inventory in the current quarter (which is equivalent to the ending inventory from the previous quarter) plus the production done during the current quarter minus the total sales made during the current quarter. Note that for IBM adapters, 1995 inventory ended with 5000 adapters, and therefore 1996 starts with this quantity. \n",
        "\n",
        "**Inventory Management Constraint IBM:** We included inventory management constraints for IBM adapters. Specifically, the production of IBM adapters in a partiular quarter, plus the end-of-period iventory of IBM adapters in the same quarter, must be 10% larger than the estimated sales of IBM adapters for the next quarter. There are only three constraints in this section, for quarters 1, 2, and 3. There is no constarint for quarter 4 because the next quarter after the fourth quarter of 1996 would be the first quarter of 1997, which is outside of the scope of this optimization problem.  This constraint was established to provide a safety cushion to help prevent shortages of IBM\n",
        "adapters.   \n",
        "\n",
        "**Inventory Management Constraint MAC:** We included inventory management constraints for MAC adapters. Specifically, the production of MAC adapters in a partiular quarter, plus the end-of-period iventory of MAC adapters in the same quarter, must be 10% larger than the estimated sales of MAC adapters for the next quarter. There are only three constraints in this section, for quarters 1, 2, and 3. There is no constarint for quarter 4 because the next quarter after the fourth quarter of 1996 would be the first quarter of 1997, which is outside of the scope of this optimization problem. This constraint was established to provide a safety cushion to help prevent shortages of MAC\n",
        "adapters.\n",
        "\n",
        "**Fourth Quarter IBM Inventory and Production Constraint:** We included fourth quarter inventory and production constraints on IBM adapters. Specifically, the inventory level plus production of IBM adapters at the end of the fourth quarter of 1996 should be at least twice the maximum expected sales of IBM adapters for that quarter. Since the maximum expected sales of IBM adapters in the fourth quarter of 1996 is 12000, the inventory level plus production of IBM adapters at the end of the fourth quarter of 1996 should be at least 24000, which is 2 multiplied by 12000. This constraint was established to provide a smooth transition to 1997. \n",
        "\n",
        "**Fourth Quarter MAC Inventory and Production Constraint:** We included fourth quarter inventory and production constraints on MAC adapters. Specifically, the inventory level plus production of MAC adapters at the end of the fourth quarter of 1996 should be at least twice the maximum expected sales of MAC adapters for that quarter. Since the maximum expected sales of MAC adapters in the fourth quarter of 1996 is 2400, the inventory level plus production of MAC adapters at the end of the fourth quarter of 1996 should be at least 4800, which is 2 multiplied by 2400. This constraint was established to provide a smooth transition to 1997. \n",
        "\n",
        "**Marketing Constraint IBM:** We included a marketing constraint for IBM adapters. Specifically, the additional units sold of IBM adapters resulting from the marketing activities in a particular quarter should account for at least a third of total IBM adapters sold in that quarter. This constraint was established to allow the company to spend money on marketing and to ensure that marketing activities are considered effective. \n",
        "\n",
        "**Marketing Constraint MAC:** We included a marketing constraint for MAC adapters. Specifically, the additional units sold of MAC adapters resulting from the marketing activities in a particular quarter should account for at least a third of total MAC adapters sold in that quarter. This constraint was established to allow the company to spend money on marketing and to ensure that marketing activities are considered effective. \n",
        "\n",
        "**Marketing Demand Constraint IBM:** We included a marketing demand constraint for IBM adapters. Specifically, the sales of IBM adapters in any quarter should be below or equal to the maximum forecasted demand of IBM adapters plus the additional demand in units of IBM adapters generated by marketing activities in the same quarter. The maximum forcasted demand of IBM adapters for quarter 1, 2, 3, and 4 is 9000, 10000, 11000, and 12000 respectively. This constraint was established to ensure that our model does not maximize sales beyond our ability.\n",
        "\n",
        "**Marketing Demand Constraint MAC:** We included a marketing demand constraint for MAC adapters. Specifically, the sales of MAC adapters in any quarter should be below or equal to the maximum forecasted demand of MAC adapters plus the additional demand in units of MAC adapters generated by marketing activities in the same quarter. The maximum forcasted demand of IBM adapters for quarter 1, 2, 3, and 4 is 1800, 2000, 2200, and 2400 respectively. This constraint was established to ensure that our model does not maximize sales beyond our ability.\n",
        "\n",
        "**Maximum Borrowing Constraint:**\n",
        "We included a maximum borrowing constaint for the line of credit. Specifically, the individual amounts borrowed from the line of credit in units of dollars in each quarter cannot exceed 750,000, since this is the amount that the credit line is worth as a whole. Note that the borrowing principal and interest is paid back the following quarter and a new borrowing is made. \n",
        "\n",
        "**Cash Flow Constraints:** We included constraints to define our cash flows appropriately. The quarterly cash flow results from the sales of IBM and MAC adapters, which are calculated using the selling price, and keeping in mind the collection percentages per quarter. In addition, the production costs of both adapters are subtracted as well as the marketing costs for the extra adapters sold through marketing initiatives. Subtracted is then the holding cost where the inventory level is taken as the average inventory throughout that quarter. Subtracted again is the fixed cost per quarter. In terms of borrowing, the principal of the borrowing from the quarter before is payed back the next quarter with interest, and a new borrowing is made. This ensures that borrowing will never be above the $750,000 limit and leaves the flexibility for the company to vary their amount borrowed month to month as a line of credit acts as a pseudo chequing account. The borrowing payed back is not applicable for the initial cash flow, as there has been no costs associated with borrowing yet. Note that all net profit is then invested in government securities and the principal invested plus interest is received the following quarter, which is shown in the objective function. \n",
        "\n",
        "**Cash Flow First Two Quarters of 1997:** Collection is still being made in 1997 for adapters that are sold in 1996. Therefore, the incoming cash flows of 1997 include the collection. The borrowing from 1996 is also being paid back, which is subtract from this cash flow. All of the 1997 cash flows are discounted back 1/2 quarters using the interest rate of the government securities. Also note that in 1997, no new borrowing is made, only borrowings are paid back from the previous year. \n",
        "\n",
        "**Non-Negative Cash Flows:** These constraints limit the net profit with borrowing to be strictly positive. The addition of the borrowing therefore results in more flexibility to have negative net profit, which might produce more sales, and will ultimately generate greater profit after the year. \n",
        "\n",
        "**Regular Sales Limited by Forecasted Demand IBM:** These constraints explain how the company will be ale to sell any number of IBM adapters up to the maximum forecasted sales amounts shown in the table 4.17 of the case study. \n",
        "\n",
        "**Regular Sales Limited by Forecasted Demand Mac:** These constraints explain how the company will be ale to sell any number of Mac adapters up to the maximum forecasted sales amounts shown in the table 4.17 of the case study. "
      ]
    },
    {
      "cell_type": "code",
      "metadata": {
        "id": "3jiyHRxG9NfN"
      },
      "source": [
        "# maximum production ibm constraint\n",
        "con_max_production_ibm={}\n",
        "con_max_production_ibm[0]=model.addConstr(Pi[0]<=28800)\n",
        "con_max_production_ibm[1]=model.addConstr(Pi[1]<=28800)\n",
        "con_max_production_ibm[2]=model.addConstr(Pi[2]<=28800)\n",
        "con_max_production_ibm[3]=model.addConstr(Pi[3]<=31680)\n",
        "\n",
        "# maximum production mac constraint\n",
        "con_max_production_mac={}\n",
        "con_max_production_mac[0]=model.addConstr(Pm[0]<=9600)\n",
        "con_max_production_mac[1]=model.addConstr(Pm[1]<=9600)\n",
        "con_max_production_mac[2]=model.addConstr(Pm[2]<=9600)\n",
        "con_max_production_mac[3]=model.addConstr(Pm[3]<=10560)"
      ],
      "execution_count": null,
      "outputs": []
    },
    {
      "cell_type": "code",
      "metadata": {
        "id": "9INXfAZEPcUy"
      },
      "source": [
        "# minimum production ibm constraint\n",
        "con_min_production_ibm={}\n",
        "con_min_production_ibm[0]=model.addConstr(Pi[0]>=2400)\n",
        "con_min_production_ibm[1]=model.addConstr(Pi[1]>=2400)\n",
        "con_min_production_ibm[2]=model.addConstr(Pi[2]>=2400)\n",
        "con_min_production_ibm[3]=model.addConstr(Pi[3]>=2400)\n",
        "\n",
        "# minimum production mac constraint\n",
        "con_min_production_mac={}\n",
        "con_min_production_mac[0]=model.addConstr(Pm[0]>=1800)\n",
        "con_min_production_mac[1]=model.addConstr(Pm[1]>=1800)\n",
        "con_min_production_mac[2]=model.addConstr(Pm[2]>=1800)\n",
        "con_min_production_mac[3]=model.addConstr(Pm[3]>=1800)"
      ],
      "execution_count": null,
      "outputs": []
    },
    {
      "cell_type": "code",
      "metadata": {
        "id": "XQwWq8CrPX0Z"
      },
      "source": [
        "# inventory management constraint ibm\n",
        "estimated_sale_ibm={}\n",
        "estimated_sale_ibm[0]=model.addConstr(Pi[0] +Ei[0] >= 1.1*Si[1])\n",
        "estimated_sale_ibm[1]=model.addConstr(Pi[1] +Ei[1] >= 1.1*Si[2])\n",
        "estimated_sale_ibm[2]=model.addConstr(Pi[2] +Ei[2] >= 1.1*Si[3])\n",
        "\n",
        "# inventory management constraint mac\n",
        "estimated_sale_mac={}\n",
        "estimated_sale_mac[0]=model.addConstr(Pm[0] +Em[0] >= 1.1*Sm[1])\n",
        "estimated_sale_mac[1]=model.addConstr(Pm[1] +Em[1] >= 1.1*Sm[2])\n",
        "estimated_sale_mac[2]=model.addConstr(Pm[2] +Em[2] >= 1.1*Sm[3])"
      ],
      "execution_count": null,
      "outputs": []
    },
    {
      "cell_type": "code",
      "metadata": {
        "id": "5joXzUiOPTSJ"
      },
      "source": [
        "# ending inventory ibm \n",
        "ending_inventory_ibm={}\n",
        "ending_inventory_ibm[0]=model.addConstr(Ei[0] == beginning_inventory_ibm + Pi[0] - Si[0])\n",
        "ending_inventory_ibm[1]=model.addConstr(Ei[1] == Ei[0] + Pi[1] - Si[1])\n",
        "ending_inventory_ibm[2]=model.addConstr(Ei[2] == Ei[1] + Pi[2] - Si[2])\n",
        "ending_inventory_ibm[3]=model.addConstr(Ei[3] == Ei[2] + Pi[3] - Si[3])\n",
        "\n",
        "# ending inventory mac\n",
        "ending_inventory_mac={}\n",
        "ending_inventory_mac[0]=model.addConstr(Em[0] == beginning_inventory_mac + Pm[0] - Sm[0])\n",
        "ending_inventory_mac[1]=model.addConstr(Em[1] == Em[0] + Pm[1] - Sm[1])\n",
        "ending_inventory_mac[2]=model.addConstr(Em[2] == Em[1] + Pm[2] - Sm[2])\n",
        "ending_inventory_mac[3]=model.addConstr(Em[3] == Em[2] + Pm[3] - Sm[3])"
      ],
      "execution_count": null,
      "outputs": []
    },
    {
      "cell_type": "code",
      "metadata": {
        "id": "tU8Or2CXPQau"
      },
      "source": [
        "# fourth quarter ibm inventory and production constraint:\n",
        "fourth_quarter_ibm={}\n",
        "fourth_quarter_ibm[3]=model.addConstr(Ei[3]+Pi[3]>=24000)\n",
        "\n",
        "# fourth quarter mac inventory and production constraint:\n",
        "fourth_quarter_mac={}\n",
        "fourth_quarter_mac[3]=model.addConstr(Em[3]+Pm[3]>=4800)"
      ],
      "execution_count": null,
      "outputs": []
    },
    {
      "cell_type": "code",
      "metadata": {
        "id": "ufSyE588PLbU"
      },
      "source": [
        "# marketing constraint ibm \n",
        "con_marketing_ibm={}\n",
        "con_marketing_ibm[0]=model.addConstr(Mi[0]>=(1/3)*Si[0])\n",
        "con_marketing_ibm[1]=model.addConstr(Mi[1]>=(1/3)*Si[1])\n",
        "con_marketing_ibm[2]=model.addConstr(Mi[2]>=(1/3)*Si[2])\n",
        "con_marketing_ibm[3]=model.addConstr(Mi[3]>=(1/3)*Si[3])\n",
        "\n",
        "# marketing constraint mac\n",
        "con_marketing_mac={}\n",
        "con_marketing_mac[0]=model.addConstr(Mm[0]>=(1/3)*Sm[0])\n",
        "con_marketing_mac[1]=model.addConstr(Mm[1]>=(1/3)*Sm[1])\n",
        "con_marketing_mac[2]=model.addConstr(Mm[2]>=(1/3)*Sm[2])\n",
        "con_marketing_mac[3]=model.addConstr(Mm[3]>=(1/3)*Sm[3])"
      ],
      "execution_count": null,
      "outputs": []
    },
    {
      "cell_type": "code",
      "metadata": {
        "id": "Dg-e5LtXPCu8"
      },
      "source": [
        "# marketing demand constraint ibm\n",
        "con_demand_marketing_ibm={}\n",
        "con_demand_marketing_ibm[0]=model.addConstr(Mi[0]+Ri[0]==Si[0])\n",
        "con_demand_marketing_ibm[1]=model.addConstr(Mi[1]+Ri[1]==Si[1])\n",
        "con_demand_marketing_ibm[2]=model.addConstr(Mi[2]+Ri[2]==Si[2])\n",
        "con_demand_marketing_ibm[3]=model.addConstr(Mi[3]+Ri[3]==Si[3])\n",
        "\n",
        "# marketing demand constraint mac\n",
        "con_demand_marketing_mac={}\n",
        "con_demand_marketing_mac[0]=model.addConstr(Mm[0]+Rm[0]==Sm[0])\n",
        "con_demand_marketing_mac[1]=model.addConstr(Mm[1]+Rm[1]==Sm[1])\n",
        "con_demand_marketing_mac[2]=model.addConstr(Mm[2]+Rm[2]==Sm[2])\n",
        "con_demand_marketing_mac[3]=model.addConstr(Mm[3]+Rm[3]==Sm[3])"
      ],
      "execution_count": null,
      "outputs": []
    },
    {
      "cell_type": "code",
      "metadata": {
        "id": "sgwIkJXQO_Vh"
      },
      "source": [
        "#max borrowing constraint\n",
        "con_max_borrowing={}\n",
        "con_max_borrowing[0]=model.addConstr(B[0]<=750000)\n",
        "con_max_borrowing[1]=model.addConstr(B[1]<=750000)\n",
        "con_max_borrowing[2]=model.addConstr(B[2]<=750000)\n",
        "con_max_borrowing[3]=model.addConstr(B[3]<=750000)"
      ],
      "execution_count": null,
      "outputs": []
    },
    {
      "cell_type": "code",
      "metadata": {
        "id": "x6lm7nsgO7ZD"
      },
      "source": [
        "##cash flow each quarter\n",
        "cash_flow={}\n",
        "cash_flow[0]=model.addConstr(CF[0]==(price_ibm*(0.75*Si[0]+0.20*8000+0.03*7000+0.02*0.5*7000)\n",
        "                                    + price_mac*(0.80*Sm[0]+0.11*1600+0.05*1400+0.04*0.5*1400)\n",
        "                                    - VC_ibm*Pi[0] - VC_mac*Pm[0]             \n",
        "                                    -((beginning_inventory_ibm + Ei[0])/2 * VC_ibm * 3*carry_cost_month)\n",
        "                                     -((beginning_inventory_mac  + Em[0])/2 * VC_mac  * 3*carry_cost_month)\n",
        "                                     - cost_advertising *(Mi[0]+Mm[0])-fixed_costs  \n",
        "                                     + B[0]))\n",
        "\n",
        "cash_flow[1]=model.addConstr(CF[1]==(price_ibm*(0.20*Si[0]+0.75*Si[1]+0.03*80000+.02*0.5*8000)\n",
        "                                    + price_mac*(0.11*Sm[0]+ 0.80*Sm[1]+0.05*1600+0.04*1600*0.5)\n",
        "                                     - VC_ibm*Pi[1] - VC_mac*Pm[1]\n",
        "                                     - ((Ei[0] + Ei[1])/2 * VC_ibm  * 3*carry_cost_month) \n",
        "                                     - ((Em[0] + Em[1])/2 * VC_mac * 3*carry_cost_month) \n",
        "                                     - cost_advertising *(Mi[1]+Mm[1])-fixed_costs\n",
        "                                     - B[0]*((1+interest_rate_LOC)**0.25)+B[1]))\n",
        "\n",
        "cash_flow[2]=model.addConstr(CF[2]==(price_ibm*(0.03*Si[0] + 0.02*0.5*Si[0] + 0.20*Si[1]+ 0.75*Si[2])\n",
        "                                    + price_mac*(0.05*Sm[0] + 0.11*Sm[1]+ 0.80*Sm[2]+ 0.04*0.5*Sm[0])\n",
        "                                    - VC_ibm*Pi[2] - VC_mac*Pm[2]\n",
        "                                    - ((Ei[1] + Ei[2])/2 * VC_ibm  * 3*carry_cost_month) \n",
        "                                     - ((Em[1] + Em[2])/2 * VC_mac * 3*carry_cost_month) \n",
        "                                     - cost_advertising *(Mi[2]+Mm[2])-fixed_costs\n",
        "                                     - B[1]*((1+interest_rate_LOC)**0.25)+B[2]))\n",
        "\n",
        "cash_flow[3]=model.addConstr(CF[3]==(price_ibm*(0.03*Si[1] + 0.02*0.5*Si[1] + 0.20*Si[2]+ 0.75*Si[3])\n",
        "                                     +price_mac*(0.05*Sm[1] + 0.04*0.5*Sm[1] + 0.11*Sm[2]+ 0.80*Sm[3])\n",
        "                                     - VC_ibm*Pi[3] - VC_mac*Pm[3]\n",
        "                                     -((Ei[2]+ Ei[3])/2 * VC_ibm  * 3*carry_cost_month) \n",
        "                                     - ((Em[2] + Em[3])/2 * VC_mac * 3*carry_cost_month) \n",
        "                                     - cost_advertising *(Mi[3]+Mm[3])-fixed_costs\n",
        "                                     -B[2]*((1+interest_rate_LOC)**0.25)+B[3]))"
      ],
      "execution_count": null,
      "outputs": []
    },
    {
      "cell_type": "code",
      "metadata": {
        "id": "hXCGqoJsOLg2"
      },
      "source": [
        "# cash flow first two quarters of 1997\n",
        "forward_profit={}\n",
        "forward_profit[0]=model.addConstr(F[0] == ((price_ibm*(0.03*Si[2] + 0.02*0.50*Si[2]+ 0.20*Si[3]) \n",
        "                                          + price_mac*(0.05*Sm[2]  + 0.04*0.5*Sm[2]+ 0.11*Sm[3])\n",
        "                                          -B[3]*((1+interest_rate_LOC)**0.25))*((1+interest_rate_bonds)**-0.25)))\n",
        "forward_profit[1]=model.addConstr(F[1] == ((price_ibm*(0.03*Si[3] + 0.02*0.5*Si[3]) \n",
        "                                          + price_mac*(0.05*Sm[3] + 0.04*0.5*Sm[3]))*((1+interest_rate_bonds)**-0.5)))\n"
      ],
      "execution_count": null,
      "outputs": []
    },
    {
      "cell_type": "code",
      "metadata": {
        "id": "EDkw-y0iOg9o"
      },
      "source": [
        "# non-negative Cash flows\n",
        "cash_flow_non_negative={}\n",
        "cash_flow_non_negative[0]=model.addConstr(CF[0]>=0)\n",
        "cash_flow_non_negative[1]=model.addConstr(CF[1]>=0)\n",
        "cash_flow_non_negative[2]=model.addConstr(CF[2]>=0)\n",
        "cash_flow_non_negative[3]=model.addConstr(CF[3]>=0)"
      ],
      "execution_count": null,
      "outputs": []
    },
    {
      "cell_type": "code",
      "metadata": {
        "id": "2rkT3AFgz5VY"
      },
      "source": [
        "# regular sales limited by forecasted demand IBM\n",
        "regular_sales_ibm={}\n",
        "regular_sales_ibm[0]=model.addConstr(Ri[0]<=9000)\n",
        "regular_sales_ibm[1]=model.addConstr(Ri[1]<=10000)\n",
        "regular_sales_ibm[2]=model.addConstr(Ri[2]<=11000)\n",
        "regular_sales_ibm[3]=model.addConstr(Ri[3]<=12000)\n",
        "\n",
        "# regular sales limited by forecasted demand IBM\n",
        "regular_sales_mac={}\n",
        "regular_sales_mac[0]=model.addConstr(Rm[0]<=1800)\n",
        "regular_sales_mac[1]=model.addConstr(Rm[1]<=2000)\n",
        "regular_sales_mac[2]=model.addConstr(Rm[2]<=2200)\n",
        "regular_sales_mac[3]=model.addConstr(Rm[3]<=2400)"
      ],
      "execution_count": null,
      "outputs": []
    },
    {
      "cell_type": "markdown",
      "metadata": {
        "id": "d7qvhvUJ9NfQ"
      },
      "source": [
        "\n",
        "**Objective Function**\n",
        "\n",
        "$$\\max\\bigg((((CF[0]\\times((1+interest\\_rate\\_bonds)^{1/4}))+CF[1])\\times((1+interest\\_rate\\_bonds)^{1/4}))+CF[2])\\times((1+interest\\_rate\\_bonds)^{1/4})+CF[3]+F[0]+F[1] \\bigg)$$\n"
      ]
    },
    {
      "cell_type": "markdown",
      "metadata": {
        "id": "nbh4YS5V9NfR"
      },
      "source": [
        "**Objective Function Explanation:** The objective function is ultimately adding up the cash flows from period 1 to 4. Our assumption is that at the end of the period, all positive cash flow is invested in a government security. As a result, the cash flows ends up to be zero. The following period, the principal plus the interest is received and added to the new cash flow. This is iterative until the fourth quarter where the third cash flow principal and interest is received and is added to the fourth cash flow, plus the future cash flows of the first two quarters of 1997, discounted back. We are therefore trying to find the maximum of the fourth quarter, which combined all of the cash flows of the previous quarters as well as two first quarters of 1997, to maximize the profits of that year. "
      ]
    },
    {
      "cell_type": "code",
      "metadata": {
        "id": "1d_R1Vnd9NfS"
      },
      "source": [
        "# objective function\n",
        "obj = ((((CF[0]*((1+interest_rate_bonds)**0.25))+CF[1])*((1+interest_rate_bonds)**0.25))+CF[2])*((1+interest_rate_bonds)**0.25)+CF[3]+F[0]+F[1]\n",
        "       \n",
        "model.setObjective(obj, GRB.MAXIMIZE)"
      ],
      "execution_count": null,
      "outputs": []
    },
    {
      "cell_type": "code",
      "metadata": {
        "id": "1h7kttpq9NfZ"
      },
      "source": [
        "model.optimize()"
      ],
      "execution_count": null,
      "outputs": []
    },
    {
      "cell_type": "markdown",
      "metadata": {
        "id": "vrveJMXA9Nfd"
      },
      "source": [
        "### **Optimal Solution**"
      ]
    },
    {
      "cell_type": "code",
      "metadata": {
        "id": "2FkL84Qe9Nff"
      },
      "source": [
        "base_model=model.ObjVal\n",
        "print(\"The optimal solution will result in a profit of:\", \"$\",model.objVal, \"at the end of Q4 1996\") "
      ],
      "execution_count": null,
      "outputs": []
    },
    {
      "cell_type": "code",
      "metadata": {
        "id": "KT-5xHCg9Nfl"
      },
      "source": [
        "print(\"Here is a table containing key summary information regarding the optimal solution:\")\n",
        "Solution = Table().with_columns([\n",
        "     'Quarters',[1,2,3,4],\n",
        "    'Production IBM',[Pi[0].x, Pi[1].x,Pi[2].x,Pi[3].x],\n",
        "    'Production Mac',[Pm[0].x, Pm[1].x,Pm[2].x,Pm[3].x],\n",
        "    'Sales IBM',[Si[0].x, Si[1].x,Si[2].x,Si[3].x],\n",
        "    'Sales Mac',[Sm[0].x, Sm[1].x,Sm[2].x,Sm[3].x],\n",
        "    'Regular Sales IBM',[Ri[0].x, Ri[1].x,Ri[2].x,Ri[3].x],\n",
        "    'Regular Sales Mac',[Rm[0].x, Rm[1].x,Rm[2].x,Rm[3].x],\n",
        "    'Marketing IBM',[Mi[0].x, Mi[1].x,Mi[2].x,Mi[3].x],\n",
        "    'Marketing Mac',[Mm[0].x, Mm[1].x,Mm[2].x,Mm[3].x],\n",
        "    'Amount borrowed',[B[0].x, B[1].x,B[2].x,B[3].x],\n",
        "    'Ending inventory IBM',[Ei[0].x, Ei[1].x,Ei[2].x,Ei[3].x],\n",
        "    'Ending inventory Mac',[Em[0].x, Em[1].x,Em[2].x,Em[3].x],\n",
        "    'Cash flow',[CF[0].x, CF[1].x,CF[2].x,CF[3].x],\n",
        "    ])\n",
        "Solution\n"
      ],
      "execution_count": null,
      "outputs": []
    },
    {
      "cell_type": "code",
      "metadata": {
        "id": "1seIVECMDmjY"
      },
      "source": [
        "Forward = Table().with_columns([\n",
        "     'Quarters',[1,2],\n",
        "     '1997 Cash Flows',[F[0].x, F[1].x],\n",
        "    ])\n",
        "Forward"
      ],
      "execution_count": null,
      "outputs": []
    },
    {
      "cell_type": "code",
      "metadata": {
        "id": "lvhdng_S9Nfr"
      },
      "source": [
        "plots.bar(Solution.column(\"Quarters\")-0.1,Solution.column(\"Production IBM\"),width=0.2,label=\"IBM Production\")\n",
        "plots.bar(Solution.column(\"Quarters\")+0.1,Solution.column(\"Production Mac\"),width=0.2,label=\"MAC Production\")\n",
        "plots.xticks([1,2,3,4])\n",
        "plots.axis(xmax=4.5,ymax=40000)\n",
        "plots.xlabel(\"Quarter\",fontsize=15)\n",
        "plots.ylabel(\"Production in units\",fontsize=15)\n",
        "plots.title(\"Production of adapters over the year 1996\",fontsize=20)\n",
        "_ =plots.legend(loc=\"best\")"
      ],
      "execution_count": null,
      "outputs": []
    },
    {
      "cell_type": "code",
      "metadata": {
        "id": "xeU3FQjP9Nfv"
      },
      "source": [
        "plots.bar(Solution.column(\"Quarters\")-0.1,Solution.column(\"Sales IBM\"),width=0.2,label=\"IBM Sales\")\n",
        "plots.bar(Solution.column(\"Quarters\")+0.1,Solution.column(\"Sales Mac\"),width=0.2,label=\"MAC Sales\")\n",
        "plots.xticks([1,2,3,4])\n",
        "plots.axis(xmax=4.5,ymax=50000)\n",
        "plots.xlabel(\"Quarter\",fontsize=15)\n",
        "plots.ylabel(\"Sales in units\",fontsize=15)\n",
        "plots.title(\"Sales of adapters over the year 1996\",fontsize=20)\n",
        "_ =plots.legend(loc=\"upper right\")"
      ],
      "execution_count": null,
      "outputs": []
    },
    {
      "cell_type": "code",
      "metadata": {
        "id": "KMcO1S3S9Nfz"
      },
      "source": [
        "plots.bar(Solution.column(\"Quarters\")-0.1,Solution.column(\"Marketing IBM\"),width=0.2,label=\"IBM Marketing\")\n",
        "plots.bar(Solution.column(\"Quarters\")+0.1,Solution.column(\"Marketing Mac\"),width=0.2,label=\"MAC Marketing\")\n",
        "plots.xticks([1,2,3,4])\n",
        "plots.axis(xmax=4.5,ymax=50000)\n",
        "plots.xlabel(\"Quarter\",fontsize=15)\n",
        "plots.ylabel(\"Marketing in units of additional adapter units sold due to marketing activities\",fontsize=15)\n",
        "plots.title(\"Marketing of adapters over the year 1996\",fontsize=20)\n",
        "_ =plots.legend(loc=\"best\")"
      ],
      "execution_count": null,
      "outputs": []
    },
    {
      "cell_type": "code",
      "metadata": {
        "id": "qYVwS1ry9Nf5"
      },
      "source": [
        "plots.bar(Solution.column(\"Quarters\")-0.1,Solution.column(\"Amount borrowed\"),width=0.2,label=\"Amount Borrowed\")\n",
        "plots.xticks([1,2,3,4])\n",
        "plots.axis(xmax=4.5,ymax=800000)\n",
        "plots.xlabel(\"Quarter\",fontsize=15)\n",
        "plots.ylabel(\"Amount borrowed from the line of credit in units of dollars\",fontsize=15)\n",
        "plots.title(\"Amount over the year 1996\",fontsize=20)\n",
        "_ =plots.legend(loc=\"best\")"
      ],
      "execution_count": null,
      "outputs": []
    },
    {
      "cell_type": "code",
      "metadata": {
        "id": "xjkGCNpx9Nf9"
      },
      "source": [
        "plots.bar(Forward.column(\"Quarters\")-0.1,Forward.column(\"1997 Cash Flows\"),width=0.2,label=\"Cash Flow\")\n",
        "plots.xticks([1,2])\n",
        "plots.axis(xmax=4.5,ymax=3.5e+06)\n",
        "plots.xlabel(\"Quarter\",fontsize=15)\n",
        "plots.ylabel(\"Cash flow at the end of the quarter in units of dollars\",fontsize=15)\n",
        "plots.title(\"Cash flow over the year 1997\",fontsize=20)\n",
        "_ =plots.legend(loc=\"upper right\")"
      ],
      "execution_count": null,
      "outputs": []
    },
    {
      "cell_type": "code",
      "metadata": {
        "id": "N3QTNAojPil2"
      },
      "source": [
        "plots.bar(Solution.column(\"Quarters\")-0.1,Solution.column(\"Cash flow\"),width=0.2,label=\"Cash Flow\")\n",
        "plots.xticks([1,2,3,4])\n",
        "plots.axis(xmax=4.5,ymax=4.0e+06)\n",
        "plots.xlabel(\"Quarter\",fontsize=15)\n",
        "plots.ylabel(\"Cash flow at the end of the quarter in units of dollars\",fontsize=15)\n",
        "plots.title(\"Cash flow over the year 1996\",fontsize=20)\n",
        "_ =plots.legend(loc=\"upper right\")"
      ],
      "execution_count": null,
      "outputs": []
    },
    {
      "cell_type": "code",
      "metadata": {
        "id": "F8Ayxwrd9NgA"
      },
      "source": [
        "plots.bar(Solution.column(\"Quarters\")-0.1,Solution.column(\"Ending inventory IBM\"),width=0.2,label=\"IBM Ending Inventory\")\n",
        "plots.bar(Solution.column(\"Quarters\")+0.1,Solution.column(\"Ending inventory Mac\"),width=0.2,label=\"MAC Ending Inventory\")\n",
        "plots.xticks([1,2,3,4])\n",
        "plots.axis(xmax=4.5,ymax=10000)\n",
        "plots.xlabel(\"Quarter\",fontsize=15)\n",
        "plots.ylabel(\"Ending inventory in units of adapters\",fontsize=15)\n",
        "plots.title(\"Ending Inventory over the year 1996\",fontsize=20)\n",
        "_ =plots.legend(loc=\"best\")"
      ],
      "execution_count": null,
      "outputs": []
    },
    {
      "cell_type": "markdown",
      "metadata": {
        "id": "sA6PTGGc9NgE"
      },
      "source": [
        "## **Key findings from the optimal solution:**\n",
        "$ 13031411.858522063\n",
        "* No borrowing\n",
        "*   Regular Sales maxed out in Q1-Q4\n",
        "*   Marketing Spend is Very Important to Offset Relatively Low Fixed Costs with Additional Sales\n",
        "*   Marketing Sales far outweigh Regular Sales\n",
        "* Ending Inventories of 0 for both adapters in Q1 and Q4 \n",
        "* Production capacity maxed out for both adapters in Q1, Q2, Q3\n",
        "* Production under capacity for both adapters in Q4\n",
        "*Ratio of Marketing Sales between both adapters is more similar than Ratio between for Regular Products\n",
        "*Q3 has smallest net cash flow\n",
        "*Q1 has highest cash flow \n"
      ]
    },
    {
      "cell_type": "markdown",
      "metadata": {
        "id": "0_uc_NyI9NgG"
      },
      "source": [
        "# **Section III: Sensitivity Analysis**"
      ]
    },
    {
      "cell_type": "markdown",
      "metadata": {
        "id": "u9mcVS3a9NgI"
      },
      "source": [
        "Questions 7  is present in this report as a sample. All of the sensitivity analyses are present in separate .ipynb files submitted with this report. "
      ]
    },
    {
      "cell_type": "markdown",
      "metadata": {
        "id": "gfRReExcQN2n"
      },
      "source": [
        "### **Sensitivity Question 7**"
      ]
    },
    {
      "cell_type": "code",
      "metadata": {
        "id": "wdpbvSKZRWiE"
      },
      "source": [
        "rate=0.24\n",
        "\n",
        "model2 = Model('sensitivity analysis') # object\n",
        "\n",
        "#initilizing empty dictionaries\n",
        "Pi = {}  \n",
        "Pm = {} \n",
        "Si = {} \n",
        "Sm = {} \n",
        "Mi = {} \n",
        "Mm = {} \n",
        "B = {} \n",
        "Ei = {}\n",
        "Em = {} \n",
        "CF={}\n",
        "F= {}\n",
        "Ri={}\n",
        "Rm={}\n",
        "\n",
        "# Create decisions variable\n",
        "for i in np.arange(4):  \n",
        "    Pi[i] = model2.addVar(lb=0)\n",
        "    Pm[i] = model2.addVar(lb=0)\n",
        "    Si[i] = model2.addVar(lb=0)\n",
        "    Sm[i] = model2.addVar(lb=0)\n",
        "    Mi[i] = model2.addVar(lb=0)\n",
        "    Mm[i] = model2.addVar(lb=0)\n",
        "    B[i] = model2.addVar(lb=0)\n",
        "    CF[i] = model2.addVar(lb=0)\n",
        "    Ei[i] = model2.addVar(lb=0)\n",
        "    Em[i] = model2.addVar(lb=0)\n",
        "    Ri[i] = model2.addVar(lb=0)\n",
        "    Rm[i] = model2.addVar(lb=0)\n",
        "\n",
        "for i in np.arange(2):    \n",
        "    F[i] = model2.addVar(lb=0)\n",
        "    # By default Gurobi assumes that the lower bound of a variable lb=0, not minus infinity.\n",
        "\n",
        "# constant parameters  \n",
        "price_ibm = 175\n",
        "price_mac = 200\n",
        "VC_ibm = 100\n",
        "VC_mac = 110\n",
        "beginning_inventory_ibm = 10000\n",
        "beginning_inventory_mac = 5000\n",
        "cost_advertising = 10\n",
        "interest_rate_LOC = rate\n",
        "interest_rate_bonds = 0.06\n",
        "fixed_costs = 250000\n",
        "carry_cost_month = 0.01\n",
        "\n",
        "# creating constraint\n",
        "# maximum production ibm constraint\n",
        "con_max_production_ibm={}\n",
        "con_max_production_ibm[0]=model2.addConstr(Pi[0]<=28800)\n",
        "con_max_production_ibm[1]=model2.addConstr(Pi[1]<=28800)\n",
        "con_max_production_ibm[2]=model2.addConstr(Pi[2]<=28800)\n",
        "con_max_production_ibm[3]=model2.addConstr(Pi[3]<=31680)\n",
        "\n",
        "# maximum production mac constraint\n",
        "con_max_production_mac={}\n",
        "con_max_production_mac[0]=model2.addConstr(Pm[0]<=9600)\n",
        "con_max_production_mac[1]=model2.addConstr(Pm[1]<=9600)\n",
        "con_max_production_mac[2]=model2.addConstr(Pm[2]<=9600)\n",
        "con_max_production_mac[3]=model2.addConstr(Pm[3]<=10560)\n",
        "\n",
        "# minimum production ibm constraint\n",
        "con_min_production_ibm={}\n",
        "con_min_production_ibm[0]=model2.addConstr(Pi[0]>=2400)\n",
        "con_min_production_ibm[1]=model2.addConstr(Pi[1]>=2400)\n",
        "con_min_production_ibm[2]=model2.addConstr(Pi[2]>=2400)\n",
        "con_min_production_ibm[3]=model2.addConstr(Pi[3]>=2400)\n",
        "\n",
        "# minimum production mac constraint\n",
        "con_min_production_mac={}\n",
        "con_min_production_mac[0]=model2.addConstr(Pm[0]>=1800)\n",
        "con_min_production_mac[1]=model2.addConstr(Pm[1]>=1800)\n",
        "con_min_production_mac[2]=model2.addConstr(Pm[2]>=1800)\n",
        "con_min_production_mac[3]=model2.addConstr(Pm[3]>=1800)\n",
        "\n",
        "# inventory management constraint ibm\n",
        "estimated_sale_ibm={}\n",
        "estimated_sale_ibm[0]=model2.addConstr(Pi[0] +Ei[0] >= 1.1*Si[1])\n",
        "estimated_sale_ibm[1]=model2.addConstr(Pi[1] +Ei[1] >= 1.1*Si[2])\n",
        "estimated_sale_ibm[2]=model2.addConstr(Pi[2] +Ei[2] >= 1.1*Si[3])\n",
        "\n",
        "# inventory management constraint mac\n",
        "estimated_sale_mac={}\n",
        "estimated_sale_mac[0]=model2.addConstr(Pm[0] +Em[0] >= 1.1*Sm[1])\n",
        "estimated_sale_mac[1]=model2.addConstr(Pm[1] +Em[1] >= 1.1*Sm[2])\n",
        "estimated_sale_mac[2]=model2.addConstr(Pm[2] +Em[2] >= 1.1*Sm[3])\n",
        "\n",
        "# ending inventory ibm \n",
        "ending_inventory_ibm={}\n",
        "ending_inventory_ibm[0]=model2.addConstr(Ei[0] == beginning_inventory_ibm + Pi[0] - Si[0])\n",
        "ending_inventory_ibm[1]=model2.addConstr(Ei[1] == Ei[0] + Pi[1] - Si[1])\n",
        "ending_inventory_ibm[2]=model2.addConstr(Ei[2] == Ei[1] + Pi[2] - Si[2])\n",
        "ending_inventory_ibm[3]=model2.addConstr(Ei[3] == Ei[2] + Pi[3] - Si[3])\n",
        "\n",
        "# ending inventory mac\n",
        "ending_inventory_mac={}\n",
        "ending_inventory_mac[0]=model2.addConstr(Em[0] == beginning_inventory_mac + Pm[0] - Sm[0])\n",
        "ending_inventory_mac[1]=model2.addConstr(Em[1] == Em[0] + Pm[1] - Sm[1])\n",
        "ending_inventory_mac[2]=model2.addConstr(Em[2] == Em[1] + Pm[2] - Sm[2])\n",
        "ending_inventory_mac[3]=model2.addConstr(Em[3] == Em[2] + Pm[3] - Sm[3])\n",
        "\n",
        "# fourth quarter ibm inventory and production constraint:\n",
        "fourth_quarter_ibm={}\n",
        "fourth_quarter_ibm[3]=model2.addConstr(Ei[3]+Pi[3]>=24000)\n",
        "\n",
        "# fourth quarter mac inventory and production constraint:\n",
        "fourth_quarter_mac={}\n",
        "fourth_quarter_mac[3]=model2.addConstr(Em[3]+Pm[3]>=4800)\n",
        "\n",
        "# marketing constraint ibm \n",
        "con_marketing_ibm={}\n",
        "con_marketing_ibm[0]=model2.addConstr(Mi[0]>=(1/3)*Si[0])\n",
        "con_marketing_ibm[1]=model2.addConstr(Mi[1]>=(1/3)*Si[1])\n",
        "con_marketing_ibm[2]=model2.addConstr(Mi[2]>=(1/3)*Si[2])\n",
        "con_marketing_ibm[3]=model2.addConstr(Mi[3]>=(1/3)*Si[3])\n",
        "\n",
        "# marketing constraint mac\n",
        "con_marketing_mac={}\n",
        "con_marketing_mac[0]=model2.addConstr(Mm[0]>=(1/3)*Sm[0])\n",
        "con_marketing_mac[1]=model2.addConstr(Mm[1]>=(1/3)*Sm[1])\n",
        "con_marketing_mac[2]=model2.addConstr(Mm[2]>=(1/3)*Sm[2])\n",
        "con_marketing_mac[3]=model2.addConstr(Mm[3]>=(1/3)*Sm[3])\n",
        "\n",
        "# marketing demand constraint ibm\n",
        "con_demand_marketing_ibm={}\n",
        "con_demand_marketing_ibm[0]=model2.addConstr(Mi[0]+Ri[0]==Si[0])\n",
        "con_demand_marketing_ibm[1]=model2.addConstr(Mi[1]+Ri[1]==Si[1])\n",
        "con_demand_marketing_ibm[2]=model2.addConstr(Mi[2]+Ri[2]==Si[2])\n",
        "con_demand_marketing_ibm[3]=model2.addConstr(Mi[3]+Ri[3]==Si[3])\n",
        "\n",
        "# marketing demand constraint mac\n",
        "con_demand_marketing_mac={}\n",
        "con_demand_marketing_mac[0]=model2.addConstr(Mm[0]+Rm[0]==Sm[0])\n",
        "con_demand_marketing_mac[1]=model2.addConstr(Mm[1]+Rm[1]==Sm[1])\n",
        "con_demand_marketing_mac[2]=model2.addConstr(Mm[2]+Rm[2]==Sm[2])\n",
        "con_demand_marketing_mac[3]=model2.addConstr(Mm[3]+Rm[3]==Sm[3])\n",
        "\n",
        "#max borrowing constraint\n",
        "con_max_borrowing={}\n",
        "con_max_borrowing[0]=model2.addConstr(B[0]<=750000)\n",
        "con_max_borrowing[1]=model2.addConstr(B[1]<=750000)\n",
        "con_max_borrowing[2]=model2.addConstr(B[2]<=750000)\n",
        "con_max_borrowing[3]=model2.addConstr(B[3]<=750000)\n",
        "\n",
        "##cash flow each quarter\n",
        "cash_flow={}\n",
        "cash_flow[0]=model2.addConstr(CF[0]==(price_ibm*(0.75*Si[0]+0.20*8000+0.03*7000+0.02*0.5*7000)\n",
        "                                    + price_mac*(0.80*Sm[0]+0.11*1600+0.05*1400+0.04*0.5*1400)\n",
        "                                    - VC_ibm*Pi[0] - VC_mac*Pm[0]             \n",
        "                                    -((beginning_inventory_ibm + Ei[0])/2 * VC_ibm * 3*carry_cost_month)\n",
        "                                    -((beginning_inventory_mac  + Em[0])/2 * VC_mac  * 3*carry_cost_month)\n",
        "                                    - cost_advertising *(Mi[0]+Mm[0])-fixed_costs  \n",
        "                                    + B[0]))\n",
        "\n",
        "cash_flow[1]=model2.addConstr(CF[1]==(price_ibm*(0.20*Si[0]+0.75*Si[1]+0.03*80000+.02*0.5*8000)\n",
        "                                    + price_mac*(0.11*Sm[0]+ 0.80*Sm[1]+0.05*1600+0.04*1600*0.5)\n",
        "                                    - VC_ibm*Pi[1] - VC_mac*Pm[1]\n",
        "                                    - ((Ei[0] + Ei[1])/2 * VC_ibm  * 3*carry_cost_month) \n",
        "                                    - ((Em[0] + Em[1])/2 * VC_mac * 3*carry_cost_month) \n",
        "                                    - cost_advertising *(Mi[1]+Mm[1])-fixed_costs\n",
        "                                    - B[0]*((1+interest_rate_LOC)**0.25)+B[1]))\n",
        "\n",
        "cash_flow[2]=model2.addConstr(CF[2]==(price_ibm*(0.03*Si[0] + 0.02*0.5*Si[0] + 0.20*Si[1]+ 0.75*Si[2])\n",
        "                                    + price_mac*(0.05*Sm[0] + 0.11*Sm[1]+ 0.80*Sm[2]+ 0.04*0.5*Sm[0])\n",
        "                                    - VC_ibm*Pi[2] - VC_mac*Pm[2]\n",
        "                                    - ((Ei[1] + Ei[2])/2 * VC_ibm  * 3*carry_cost_month) \n",
        "                                    - ((Em[1] + Em[2])/2 * VC_mac * 3*carry_cost_month) \n",
        "                                    - cost_advertising *(Mi[2]+Mm[2])-fixed_costs\n",
        "                                    - B[1]*((1+interest_rate_LOC)**0.25)+B[2]))\n",
        "\n",
        "cash_flow[3]=model2.addConstr(CF[3]==(price_ibm*(0.03*Si[1] + 0.02*0.5*Si[1] + 0.20*Si[2]+ 0.75*Si[3])\n",
        "                                    +price_mac*(0.05*Sm[1] + 0.04*0.5*Sm[1] + 0.11*Sm[2]+ 0.80*Sm[3])\n",
        "                                    - VC_ibm*Pi[3] - VC_mac*Pm[3]\n",
        "                                    -((Ei[2]+ Ei[3])/2 * VC_ibm  * 3*carry_cost_month) \n",
        "                                    - ((Em[2] + Em[3])/2 * VC_mac * 3*carry_cost_month) \n",
        "                                    - cost_advertising *(Mi[3]+Mm[3])-fixed_costs\n",
        "                                    -B[2]*((1+interest_rate_LOC)**0.25)+B[3]))\n",
        "\n",
        "\n",
        "# cash flow first two quarters of 1997\n",
        "forward_profit={}\n",
        "forward_profit[0]=model2.addConstr(F[0] == ((price_ibm*(0.03*Si[2] + 0.02*0.50*Si[2]+ 0.20*Si[3]) \n",
        "                                          + price_mac*(0.05*Sm[2]  + 0.04*0.5*Sm[2]+ 0.11*Sm[3])\n",
        "                                          -B[3]*((1+interest_rate_LOC)**0.25))*((1+interest_rate_bonds)**-0.25)))\n",
        "forward_profit[1]=model2.addConstr(F[1] == ((price_ibm*(0.03*Si[3] + 0.02*0.5*Si[3]) \n",
        "                                          + price_mac*(0.05*Sm[3] + 0.04*0.5*Sm[3]))*((1+interest_rate_bonds)**-0.5)))\n",
        "\n",
        "\n",
        "\n",
        "# non-negative Cash flows\n",
        "cash_flow_non_negative={}\n",
        "cash_flow_non_negative[0]=model2.addConstr(CF[0]>=0)\n",
        "cash_flow_non_negative[1]=model2.addConstr(CF[1]>=0)\n",
        "cash_flow_non_negative[2]=model2.addConstr(CF[2]>=0)\n",
        "cash_flow_non_negative[3]=model2.addConstr(CF[3]>=0)\n",
        "\n",
        "# regular sales limited be forecasted demand IBM\n",
        "regular_sales_ibm={}\n",
        "regular_sales_ibm[0]=model2.addConstr(Ri[0]<=9000)\n",
        "regular_sales_ibm[1]=model2.addConstr(Ri[1]<=10000)\n",
        "regular_sales_ibm[2]=model2.addConstr(Ri[2]<=11000)\n",
        "regular_sales_ibm[3]=model2.addConstr(Ri[3]<=12000)\n",
        "\n",
        "# regular sales limited be forecasted demand IBM\n",
        "regular_sales_mac={}\n",
        "regular_sales_mac[0]=model2.addConstr(Rm[0]<=1800)\n",
        "regular_sales_mac[1]=model2.addConstr(Rm[1]<=2000)\n",
        "regular_sales_mac[2]=model2.addConstr(Rm[2]<=2200)\n",
        "regular_sales_mac[3]=model2.addConstr(Rm[3]<=2400)\n",
        "\n",
        "\n",
        "# objective function\n",
        "obj = ((((CF[0]*((1+interest_rate_bonds)**0.25))+CF[1])*((1+interest_rate_bonds)**0.25))+CF[2])*((1+interest_rate_bonds)**0.25)+CF[3]+F[0]+F[1]\n",
        "    \n",
        "model2.setObjective(obj, GRB.MAXIMIZE)\n",
        "\n",
        "model2.optimize()"
      ],
      "execution_count": null,
      "outputs": []
    },
    {
      "cell_type": "code",
      "metadata": {
        "id": "omTNpSE-hAYD"
      },
      "source": [
        "\n",
        "print(\"\\nThe optimal solution with a line of credit interest rate of\", rate, \"will result in a profit of:\", \"$\", model2.objVal, \"at the end of Q4 1996\") "
      ],
      "execution_count": null,
      "outputs": []
    },
    {
      "cell_type": "code",
      "metadata": {
        "id": "LmRTPGbok_wK"
      },
      "source": [
        "model2.ObjVal==model.objVal\n",
        "print(\"It is\", model2.ObjVal==model.objVal, \"that the solution to the objective function (profit) remains the same with the change in interest rate\" )"
      ],
      "execution_count": null,
      "outputs": []
    },
    {
      "cell_type": "code",
      "metadata": {
        "id": "jhSMg6YCUuvc"
      },
      "source": [
        "print(\"Here is a table containing key summary information regarding the optimal solution in the sensitivity analysis, changing line of credit interest rate to 24%:\")\n",
        "Sensitivity_solution = Table().with_columns([\n",
        "    'Quarters',[1,2,3,4],\n",
        "    'Production IBM',[Pi[0].x, Pi[1].x,Pi[2].x,Pi[3].x],\n",
        "    'Production Mac',[Pm[0].x, Pm[1].x,Pm[2].x,Pm[3].x],\n",
        "    'Sales IBM',[Si[0].x, Si[1].x,Si[2].x,Si[3].x],\n",
        "    'Sales Mac',[Sm[0].x, Sm[1].x,Sm[2].x,Sm[3].x],\n",
        "    'Regular Sales IBM',[Ri[0].x, Ri[1].x,Ri[2].x,Ri[3].x],\n",
        "    'Regular Sales Mac',[Rm[0].x, Rm[1].x,Rm[2].x,Rm[3].x],\n",
        "    'Marketing IBM',[Mi[0].x, Mi[1].x,Mi[2].x,Mi[3].x],\n",
        "    'Marketing Mac',[Mm[0].x, Mm[1].x,Mm[2].x,Mm[3].x],\n",
        "    'Amount borrowed',[B[0].x, B[1].x,B[2].x,B[3].x],\n",
        "    'Ending inventory IBM',[Ei[0].x, Ei[1].x,Ei[2].x,Ei[3].x],\n",
        "    'Ending inventory Mac',[Em[0].x, Em[1].x,Em[2].x,Em[3].x],\n",
        "    'Cash flow',[CF[0].x, CF[1].x,CF[2].x,CF[3].x],\n",
        "    ])\n",
        "Sensitivity_solution\n"
      ],
      "execution_count": null,
      "outputs": []
    },
    {
      "cell_type": "code",
      "metadata": {
        "id": "sD5aiQQXP5BI"
      },
      "source": [
        "Forward = Table().with_columns([\n",
        "     'Quarters',[1,2],\n",
        "     '1997 Cash Flows',[F[0].x, F[1].x],\n",
        "    ])\n",
        "Forward"
      ],
      "execution_count": null,
      "outputs": []
    },
    {
      "cell_type": "code",
      "metadata": {
        "id": "be6obHvexU_3"
      },
      "source": [
        "print(\"Here is a table containing the possible changes to the line of credit and profit as a result of changing the line of credit interest rate:\")\n",
        "Sensitivity_solution_table = Table().with_columns([\n",
        "    '',[\"-\", \"-\", \"Difference\"],\n",
        "    'Line of Credit interest rate',[0.16, 0.24, (0.24-0.16)],\n",
        "    'Amount borrowed Q1',[0, B[0].x, (B[0].x-0)],\n",
        "    'Amount borrowed Q2',[0, B[1].x, (B[1].x-0)],\n",
        "    'Amount borrowed Q3',[0, B[2].x, (B[2].x-0)],\n",
        "    'Amount borrowed Q4',[0, B[3].x, (B[3].x-0)],\n",
        "    'Objective function profit',[original_solution, model2.objVal, (model2.objVal-original_solution)],\n",
        "    ])\n",
        "\n",
        "Sensitivity_solution_table\n"
      ],
      "execution_count": null,
      "outputs": []
    },
    {
      "cell_type": "code",
      "metadata": {
        "id": "F0bHARrkXkBg"
      },
      "source": [
        "plots.bar(Sensitivity_solution_table.column(\"Line of Credit interest rate\")[0:2],Sensitivity_solution_table.column(\"Objective function profit\")[0:2],width=0.02,label=\"Amount Borrowed\")\n",
        "plots.xticks([0.05,0.1,0.15,0.2, 0.25])\n",
        "plots.axis(xmax=0.3,ymax=1.30314e+07)\n",
        "plots.xlabel(\"Interest Rate\",fontsize=15)\n",
        "plots.ylabel(\"Profit at the end of Q4 1996 in units of dollars\",fontsize=15)\n",
        "plots.title(\"Amount over the year 1996\",fontsize=20)\n",
        "_ =plots.legend(loc=\"lower left\")"
      ],
      "execution_count": null,
      "outputs": []
    },
    {
      "cell_type": "markdown",
      "metadata": {
        "id": "KB6D7p_EXu-t"
      },
      "source": [
        "The change from an interest rate on the line of credit of 0.16 to an interest rate of 0.24 by going with a smaller bank is ultimately not affecting the ending profit at the end of Q4 of 1996. The change in the line of credit interest rate results in a change to the objective function, since this rate is used in the 1996 and 1997 cash flows, all present indirectly as coefficients in the objective function. However, since no boring is being done at all, the increase in this interest rate does not affect the profit. The borrowing portion of the equation results in zero, so changing the line of credit interest rate marginally will not impact these  quarters. \n",
        "\n",
        "*The change in bank does not affect the profit generated at the end of Q4.* \n"
      ]
    },
    {
      "cell_type": "markdown",
      "metadata": {
        "id": "RT_EKJ8ULlmU"
      },
      "source": [
        "### **Sensitivity Question 11(a)**"
      ]
    },
    {
      "cell_type": "markdown",
      "metadata": {
        "id": "i2NMFtt_LpoV"
      },
      "source": [
        "The addition to the line of credit by 1000000 is not affecting the ending profit at the end of Q4 of 1996. The increase in the line of credit results in a change to the right hand side of the borrowing constraints. However, since no borrowing is being done at all, the increase in this line of credit quantity is not affecting the profit. To mazimize profit, the company could have borrowed up until $750 000 and did not; it is not a binding constraint. In Q1, Q2, Q4 of 1996, the borrowing coefficients ended up being zero, and since no borrowing is done, changing the line of credit will not impact these quarters. \n",
        "\n",
        "*As a result of the profit staying the same, the additional 1M line of credit is not needed, as borrowing could have taken place in the initial solution and was not.* \n"
      ]
    },
    {
      "cell_type": "code",
      "metadata": {
        "id": "beyuJKYcUUv2"
      },
      "source": [
        "IPython.display.Image('https://raw.githubusercontent.com/tyradavid/MGSC404-Lab01/master/Midterm%20Photos/Question11a.PNG') "
      ],
      "execution_count": null,
      "outputs": []
    },
    {
      "cell_type": "markdown",
      "metadata": {
        "id": "9swzd2zV8pPk"
      },
      "source": [
        "### **Sensitivity Question 3(a)**"
      ]
    },
    {
      "cell_type": "markdown",
      "metadata": {
        "id": "uq4nZyAp8sNy"
      },
      "source": [
        "The decrease in price to 173 dollars for IBM adapters and 198 dollars for Macintosh adapters makes a difference in the result of the objective function. The maximum profit is now approximately 12,689,665.92 dollars, which is a decrease of approximately 341,745.94 dollars from the original solution. In more detail, there are subtle differences between the tables of the original solution and this new solution, all of which pertaining to cash flows. With these new prices, cash flows in quarters 1, 2, 3, and 4 of 1996 decrease by approximately 85,870, 77,150, 75,620, and 75,350, dollars respectively. Furthermore, the 1997 cash flows of quarters 1, and 2 also decrease by approximately 16,990 and 3,541 dollars respectively. The decrease of cash flow in each quarter and the decrease in overall profit makes sense, since American Office Systems is making less money with each sale of adapters due to the decrease in price.   Please refer to sensitivity analysis 3a notebook file for full model and findings."
      ]
    },
    {
      "cell_type": "markdown",
      "metadata": {
        "id": "khfgKJOQ80n1"
      },
      "source": [
        "### **Sensitivity Question 3(b)**"
      ]
    },
    {
      "cell_type": "markdown",
      "metadata": {
        "id": "pCDcd-3n9WpJ"
      },
      "source": [
        "The decrease in price to 172 dollars for IBM adapters and 197 dollars for Macintosh adapters makes a difference in the result of the objective function. The profit is now approximately 12,518,792.95 dollars, which is a decrease of approximately 512,618.91 dollars from the original solution. In more detail, there are subtle differences between the tables of the original solution and this new solution, all of which pertaining to cash flows. With these new prices, cash flows in quarters 1, 2, 3, and 4 of 1996 decrease by approximately 128,800, 115,730, 113,420, 113,030 dollars respectively. Furthermore, the 1997 cash flows of quarters 1, and 2 also decrease by approximately 25,490 and 5,311 dollars respectively. The decrease of cash flow in each quarter and the decrease in overall profit makes sense, since American Office Systems is making less money with each sale of adapters due to the decrease in price. Furthermore, it makes sense that the decreases in cash flows are more dramatic for this sensitivity analysis compared to the previous one, since the price of the adapters is even lower. Please refer to sensitivity analysis 3b notebook file for full model and findings."
      ]
    },
    {
      "cell_type": "markdown",
      "metadata": {
        "id": "Olncek2r9Zve"
      },
      "source": [
        "### **Sensitivity Question 3(c)**"
      ]
    },
    {
      "cell_type": "markdown",
      "metadata": {
        "id": "Ihyd6P_89gES"
      },
      "source": [
        "The increase in price to 180 dollars for IBM adapters and 205 dollars for Macintosh adapters makes a difference in the result of the objective function. The maximum profit is now approximately 13,885,776.71 dollars, which is an increase of approximately 854,364.85 dollars from the original solution. In more detail, there are subtle differences between the tables of the original solution and this new solution, all of which pertaining to cash flows. With these new prices, cash flows in quarters 1, 2, 3, and 4 of 1996 increase by approximately 214,670, 192,880, 189,040, and 188,380 dollars respectively. Furthermore, the 1997 cash flows of quarters 1, and 2 also increase by approximately 42,480 and 8,851 dollars respectively. The increase of cash flow in each quarter and the increase in overall profit makes sense, since American Office Systems is making more money with each sale of adapters, due to the increase in price.   Please refer to sensitivity analysis 3c notebook file for full model and findings."
      ]
    },
    {
      "cell_type": "markdown",
      "metadata": {
        "id": "dJvzt6D_9jCU"
      },
      "source": [
        "### **Sensitivity Question 4(a)**"
      ]
    },
    {
      "cell_type": "markdown",
      "metadata": {
        "id": "iJPFKtDX9ndS"
      },
      "source": [
        "The increase in production cost to 102 dollars for IBM adapters and 112 dollars for Macintosh adapters makes a difference in the result of the objective function. The maximum profit is now approximately 12724143.63 dollars, which is a decrease of approximately 307,268.23 dollars from the original solution. In more detail, there are subtle differences between the tables of the original solution and this new solution, all of which pertaining to cash flows. With these new production costs, cash flows in quarters 1, 2, 3, and 4 of 1996 decrease by approximately 77,250, 76,910, 77,020, and 69,240 dollars respectively. Interestingly, the 1997 cash flows do not change with the decrease in production costs. The decrease of cash flow in each quarter and the decrease in overall profit makes sense, since American Office Systems is having to spend more money producing each adapter, due to the increase in production costs. Please refer to sensitivity analysis 4a notebook file for full model and findings."
      ]
    },
    {
      "cell_type": "markdown",
      "metadata": {
        "id": "ur5_p7lG9qgS"
      },
      "source": [
        "### **Sensitivity Question 4(b)**"
      ]
    },
    {
      "cell_type": "markdown",
      "metadata": {
        "id": "uvwgOAdY9tsx"
      },
      "source": [
        "The increase in production cost to 105 dollars for IBM adapters and 115 dollars for Macintosh adapters makes a difference in the result of the objective function. The maximum profit is now approximately 12,263,241.29 dollars, which is a decrease of approximately 768,170.57 dollars from the original solution. In more detail, there are subtle differences between the tables of the original solution and this new solution, all of which pertaining to cash flows. With these new production costs, cash flows in quarters 1, 2, 3, and 4 of 1996 decrease by approximately 193,130, 192,260, 192,550, and 173,100 dollars respectively. As in the previous sensitivity analysis, the 1997 cash flows do not change with the decrease in production costs. The decrease of cash flow in each quarter and the decrease in overall profit makes sense, since American Office Systems is having to spend more money producing each adapter due to the increase in production costs. Furthermore, it makes sense that the decreases in cash flows are more dramatic for this sensitivity analysis compared to the previous one since the production cost of the adapters is even higher. Please refer to sensitivity analysis 4a notebook file for full model and findings."
      ]
    },
    {
      "cell_type": "markdown",
      "metadata": {
        "id": "1MoZp2Jl9NgJ"
      },
      "source": [
        "## **Section IV: Original Sensitivity Analysis**"
      ]
    },
    {
      "cell_type": "markdown",
      "metadata": {
        "id": "n98AfvQBa5wp"
      },
      "source": [
        "## **Original Sensitivity Analysis 1: Work Hours (16 to 20 Operating Hours Daily)**"
      ]
    },
    {
      "cell_type": "markdown",
      "metadata": {
        "id": "SL0Yen09bJH1"
      },
      "source": [
        "Production maximum capacities constraints are all based heavily on the work hours the company is able to operate with. Work hours are important since their maximum marketing sales are greatly limited to the amount by production capacity, as it influences last quarter’s ending inventory and current production. Three quarters (1,2,4) were able to reach maximum production capacities. This means the company is potentially losing extra marketing sales that enable them to offset further their fixed costs. Thus, losing any possible sales due to insufficient production to meet extra demand created by marketing is a concern.\n",
        "\n",
        "Since labour and associated costs are already included in the product variable costs, it is reasonable for the company to consider increasing work hours. Normally, if a company expects more sales in quarter four (Christmas period), they should produce more in quarter three and quarter four, and have longer operating hours in the factory. As long as machines are able to tolerate greater usage, all-day operations (22-24 hours) can also be considered, but this leaves more risk with less time for maintenance.\n",
        "\n",
        "Thus, since the company currently has two shifts daily of 8 hours (16 hours daily operating hours), increasing both work shifts to **10 hours for every quarter (20 daily operating hours a day)** is realistic in this 1990s work environment and reasonable enough to allow time for machine maintenance. Less than 8 hours is unrealistic, which is why settling for 10 hours is the most feasible if the company needs the same hours for each quarter. Decreasing would only lessen the company's profits.\n",
        "\n",
        "----"
      ]
    },
    {
      "cell_type": "markdown",
      "metadata": {
        "id": "gwPhhmjvtX2-"
      },
      "source": [
        "### New Constraints based on 20 work hours per day instead of 16\n",
        "\n",
        "#### **Maximum Production IBM Constraint**\n",
        "Q1-3: Pi[0-2]<= 30*20*20*3 < = 36 000; \n",
        "\n",
        "Q4: Pi[3]<= 1.1*30*20*20*3 <= 39 600\n",
        "\n",
        "con_max_production_ibm={}\n",
        "\n",
        "con_max_production_ibm[0]=model2.addConstr(Pi[0]<= 36000)\n",
        "\n",
        "con_max_production_ibm[1]=model2.addConstr(Pi[1]<= 36000)\n",
        "\n",
        "con_max_production_ibm[2]=model2.addConstr(Pi[2]<= 36000)\n",
        "\n",
        "con_max_production_ibm[3]=model2.addConstr(Pi[3]<= 39600)\n",
        "\n",
        "#### **Maximum Production Mac Constraint**\n",
        "Q1-3: Pm[0-2]<= 10*20*20*3 <= 12 000;\n",
        " \n",
        "Q4: Pm[3] <= 1.1*10*20*20*3 <= 13200\n",
        "\n",
        "con_max_production_mac={}\n",
        "\n",
        "con_max_production_mac[0]=model2.addConstr(Pm[0]<= 12000)\n",
        "\n",
        "con_max_production_mac[1]=model2.addConstr(Pm[1]<= 12000)\n",
        "\n",
        "con_max_production_mac[2]=model2.addConstr(Pm[2]<= 12000)\n",
        "\n",
        "con_max_production_mac[3]=model2.addConstr(Pm[3]<= 13200)"
      ]
    },
    {
      "cell_type": "markdown",
      "metadata": {
        "id": "GpGV6yntt_h4"
      },
      "source": [
        "----"
      ]
    },
    {
      "cell_type": "markdown",
      "metadata": {
        "id": "RygfBdgJbJT3"
      },
      "source": [
        "Thus, all that was changed where the maximum production capacity constraints per product each quarter, which are all increased **by 25% (20h/16h).** By changing the work shifts to **10 hours (20 hours daily)**, the company can expect a total profit of approximately **$15,538,152.29**, which is a: \n",
        "\n",
        "**$2,506,740.43** increase in total profit "
      ]
    },
    {
      "cell_type": "markdown",
      "metadata": {
        "id": "SwfhJUNxzhDY"
      },
      "source": [
        "### **1996 Production Year Solution with 20-Work Hours**"
      ]
    },
    {
      "cell_type": "code",
      "metadata": {
        "id": "qBq0e03szh44"
      },
      "source": [
        "IPython.display.Image('https://raw.githubusercontent.com/tyradavid/MGSC404-Lab01/master/Midterm%20Photos/Solution%20-%2020H%20Work%20Days.JPG') #Solution - 20H Work Days   updated"
      ],
      "execution_count": null,
      "outputs": []
    },
    {
      "cell_type": "code",
      "metadata": {
        "id": "FlPxzL8FRiYm"
      },
      "source": [
        "IPython.display.Image(\"https://raw.githubusercontent.com/tyradavid/MGSC404-Lab01/master/Midterm%20Photos/1997%20-%20Solution%20-%20Work%2020%20H.JPG\") # 1997 - Solution - Work 20 H updated"
      ],
      "execution_count": null,
      "outputs": []
    },
    {
      "cell_type": "markdown",
      "metadata": {
        "id": "VbUu0ffGRrbl"
      },
      "source": [
        "This is the new optimal solution for 20 work hours. The cash flows are all higher for each quarter."
      ]
    },
    {
      "cell_type": "markdown",
      "metadata": {
        "id": "Swom3WxOpOOW"
      },
      "source": [
        "### **Yearly Differences - 20 and 16 Daily Production Hour Comparison**"
      ]
    },
    {
      "cell_type": "code",
      "metadata": {
        "id": "uGtUMjxMnLKw"
      },
      "source": [
        "IPython.display.Image('https://raw.githubusercontent.com/tyradavid/MGSC404-Lab01/master/Midterm%20Photos/Differences%20-%2020H%20to%2016H%20Year.JPG')       #Differences - 20H to 16H Year          switch thanks "
      ],
      "execution_count": null,
      "outputs": []
    },
    {
      "cell_type": "markdown",
      "metadata": {
        "id": "DTUvINuSovON"
      },
      "source": [
        "As is clearly shown, the company can sell many more units through Marketing advertisements than before, which is the only cause for increased profits since regular sales were already maxed out with 16 hours."
      ]
    },
    {
      "cell_type": "markdown",
      "metadata": {
        "id": "JFivF8DvpGxi"
      },
      "source": [
        "### **Sensitivity Analysis - RHS Upper Bound for Work Hours (original solution)**"
      ]
    },
    {
      "cell_type": "code",
      "metadata": {
        "id": "kHW_I4Jxn1b0"
      },
      "source": [
        "IPython.display.Image(\"https://raw.githubusercontent.com/tyradavid/MGSC404-Lab01/master/Midterm%20Photos/Work%20Hours%20Limit%20%20-%20Code.JPG\") #Work Hours Limit  - Code     updated"
      ],
      "execution_count": null,
      "outputs": []
    },
    {
      "cell_type": "markdown",
      "metadata": {
        "id": "tJU7wx17nVfV"
      },
      "source": [
        "The reasons for the increased profits and optimal solution change are that the increase in work hours surpasses the allowable increase for right-hand side constraints regarding production (found by finding maximum value of production constraint allowed without changing objective function value and then dividing by other factors which remain the same to isolate for Daily Work Hours). Since it was previously at 16 hours, we can see the max value was surpassed by 20 work hours for all but two RHS production constraints (Mac and IBM Q4), which is why far greater profits can be achieved with more production and marketing sales."
      ]
    },
    {
      "cell_type": "markdown",
      "metadata": {
        "id": "yClaSI84nVu_"
      },
      "source": [
        "However, even though it may be unrealistic, if the work hours are variable enough, they could have been decided upon as decision variables for each quarter to maximise profits (if within reasonable constraints). It would be interesting to see if the company can also secure an extra one million dollars for the credit line, which would enable further production, and combined with extra work hours, would present a feasonable alternative situation with greatly increased profitability (assuming marketing spend does not reach its limits in creating new demand). "
      ]
    },
    {
      "cell_type": "markdown",
      "metadata": {
        "id": "Eu7tCt9qpWzb"
      },
      "source": [
        "## **Original Sensitivity Analysis 2: Marketing Costs (from 10 to $15 marketing ad cost/add. unit sold)**"
      ]
    },
    {
      "cell_type": "markdown",
      "metadata": {
        "id": "-NWxG0MXqZGz"
      },
      "source": [
        "The marketing sales performance expectations are first done by an external advertising agency and reviewed by Ms. Williams. These forecasts can be wrong since they do not reflect actual electronics industry expertise. Usually, simple advertisements perform less well than sales promotions (discounts, coupons) for increasing electronic sales (shopping products), especially in the 1990s. However, admittedly, the practical nature of the product lends itself better to advertisements that highlight its use and the consumer need.\n",
        "\n",
        "In any case, marketing for both adapters has never been done before (according to case), thus the ratio **($10 marketing per extra sale)** may not hold true. As marketing is an extremely important component for this model’s profitability, and as it is easy to overestimate the effect of introductory marketing on a new product, it is better to consider for caution that this ratio will not materialise and that additional spending will be required to sell an additional unit (especially considering the lack of past experience doing campaigns for these products). \n",
        "\n",
        "To offset the risk of imprecise marketing assumptions, **a model where 15 and not $10 (50% increase in marketing cost for conversion)** in marketing ads must be spent per additional marketing sale will be looked at for prudence."
      ]
    },
    {
      "cell_type": "markdown",
      "metadata": {
        "id": "5Q04YWHCuPZB"
      },
      "source": [
        "To change this, all that was needed was to run the model by changing the advertising cost constant to :\n",
        "\n",
        "**cost_advertising = 15**"
      ]
    },
    {
      "cell_type": "markdown",
      "metadata": {
        "id": "MwcqQWxsEsak"
      },
      "source": [
        "Thus, all that was changed where the max production capacity constraints per product each quarter which are all increased **by 25% (20h/16h).** By changing the work shifts to **10 hours (20 hours daily)**, the company can expect a total profit of **$12,444,870.65**, thus a :\n",
        "\n",
        "**-586,541.21$** decrease in total profit "
      ]
    },
    {
      "cell_type": "markdown",
      "metadata": {
        "id": "_aOIuSoeE1jv"
      },
      "source": [
        "\n",
        "### **1996 Production Year Solution with Marketing at 15$**"
      ]
    },
    {
      "cell_type": "code",
      "metadata": {
        "id": "jl-rXWdiFoJr"
      },
      "source": [
        "IPython.display.Image(\"https://raw.githubusercontent.com/tyradavid/MGSC404-Lab01/master/Midterm%20Photos/Solution%20-%20Marketing%2015%24.JPG\") #Solution - Marketing 15$  updated"
      ],
      "execution_count": null,
      "outputs": []
    },
    {
      "cell_type": "code",
      "metadata": {
        "id": "Zur0sAGPEu3X"
      },
      "source": [
        "IPython.display.Image(\"https://raw.githubusercontent.com/tyradavid/MGSC404-Lab01/master/Midterm%20Photos/1997%20-%20Solution%20-%20Marketing.JPG\") #1997 - Solution - Marketing updated"
      ],
      "execution_count": null,
      "outputs": []
    },
    {
      "cell_type": "markdown",
      "metadata": {
        "id": "Bf5Prb9AapmR"
      },
      "source": [
        "As we can clearly see, the solution in terms of decisions is the same. Only the cash flows will change."
      ]
    },
    {
      "cell_type": "markdown",
      "metadata": {
        "id": "CWw6evAEEvTu"
      },
      "source": [
        "### **Cash Flow Yearly Differences - Marketing Costs 15 to 10 per add. unit Comparison**"
      ]
    },
    {
      "cell_type": "code",
      "metadata": {
        "id": "4P5cHk96hkZz"
      },
      "source": [
        "IPython.display.Image('https://raw.githubusercontent.com/tyradavid/MGSC404-Lab01/master/Midterm%20Photos/Differences%20-%20Marketing%2015%20to%2010.JPG?fbclid=IwAR1-9_QGR7vZUmKorXjXHlYKyTyDBJi1xltXtQGf1t2nxuwdYKRd-IfcX-Y')"
      ],
      "execution_count": null,
      "outputs": []
    },
    {
      "cell_type": "markdown",
      "metadata": {
        "id": "v76miM6oFH2N"
      },
      "source": [
        "After analysing the effect, the optimal solution does not change, only the objective function value is greatly reduced due to the greater cost of marketing conversion. The reason the decision variables do not change is that the allowable increase is greater for all Marketing decision variables than the current increase of only 5$ per unit sold through ads, as seen in the sensitivity below."
      ]
    },
    {
      "cell_type": "code",
      "metadata": {
        "id": "D-f_5KSCy5gJ"
      },
      "source": [
        "IPython.display.Image('https://raw.githubusercontent.com/tyradavid/MGSC404-Lab01/master/Midterm%20Photos/Marketing%20-%20Allowable%20Code.JPG') #Marketing - Allowable Code    updated"
      ],
      "execution_count": null,
      "outputs": []
    },
    {
      "cell_type": "markdown",
      "metadata": {
        "id": "THz-Z8Ge9NgK"
      },
      "source": [
        "# **Section V: Conclusion**\n",
        "\n",
        "A linear optimization model was performed to maximize the profit of American Office Systems for the year of 1996. Our model took into account numerous constraints, which represented the many barriers that the company encountered while trying to maximize their profit. While analyzing the company, we noticed some factors that could have limited the profit of American Office Systems, and we suggest these factors be improved in order to reach a higher profit. First, there were serval limiting inventory constraints, which were designed to either provide a smooth transition to the year 1997, or to provide a safety cushion to help prevent shortages. We found these constraints to be very conservative, but we nevertheless recognize their importance. Therefore, we suggest making these constraints more aggressive by proving less of a smooth transition to 1997, or to provide less of a safety cushion, in hopes of ultimately increasing profit. Furthermore, we recommend that the left-over cash in each quarter not be reinvested in government securities. Although these securities will generate cash flow overtime, reinvesting left over cash back into the company could be more profitable. This would allow the left-over cash to be invested in research and development for example, to perhaps increase the maximum number of adapters that are able to be produced every hour, and improve other similar factors that are limiting profit. "
      ]
    },
    {
      "cell_type": "markdown",
      "metadata": {
        "id": "D7vVFtTZ9NgL"
      },
      "source": [
        "## Author Contributions\n",
        "\n",
        "All three authors formulated the LP. Jonathan and Tyra did the LP coding. We all solved the LP and prepared the report. Tyra did sensitivity analysis 7 and 11a, Jonathan did sensitivity analysis 3 and 4, and Julien did the two original sensitivity analyses. Jonathan wrote the introduction, conclusion and the constraint explanations. Tyra and Julien collaborated on the objective function. \n"
      ]
    },
    {
      "cell_type": "markdown",
      "metadata": {
        "id": "S1k5Y91m5_XO"
      },
      "source": [
        "<img src=\"les_miserables.jpg\" style=\"width: 600px;\"/>"
      ]
    }
  ]
}